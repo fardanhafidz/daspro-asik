{
  "nbformat": 4,
  "nbformat_minor": 0,
  "metadata": {
    "colab": {
      "provenance": [],
      "authorship_tag": "ABX9TyPKPf8JDZGYma0eSdtfB4B+",
      "include_colab_link": true
    },
    "kernelspec": {
      "name": "python3",
      "display_name": "Python 3"
    },
    "language_info": {
      "name": "python"
    }
  },
  "cells": [
    {
      "cell_type": "markdown",
      "metadata": {
        "id": "view-in-github",
        "colab_type": "text"
      },
      "source": [
        "<a href=\"https://colab.research.google.com/github/fardanhafidz/daspro-asik/blob/main/daspro_week01.ipynb\" target=\"_parent\"><img src=\"https://colab.research.google.com/assets/colab-badge.svg\" alt=\"Open In Colab\"/></a>"
      ]
    },
    {
      "cell_type": "code",
      "execution_count": null,
      "metadata": {
        "colab": {
          "base_uri": "https://localhost:8080/"
        },
        "id": "7DVoqm38FJ1M",
        "outputId": "d3a81157-1433-4c7e-fbb1-35ee56b44ae5"
      },
      "outputs": [
        {
          "output_type": "stream",
          "name": "stdout",
          "text": [
            "masukkan angka: 10\n",
            "HUJANDERAS\n"
          ]
        }
      ],
      "source": [
        "print(\"HUJANDERAS\" if int(input(\"masukkan angka: \")) > 4 else \"PANAS\")"
      ]
    },
    {
      "cell_type": "code",
      "source": [
        "a, b = map(int, input(\"masukkan dua angka: \").split())\n",
        "print(\"BISA\" if a % b == 0 else \"MAAF\")"
      ],
      "metadata": {
        "colab": {
          "base_uri": "https://localhost:8080/"
        },
        "id": "hsFvLp1yGaUF",
        "outputId": "fbf0c3c1-ce75-47c0-943a-9a2be116929f"
      },
      "execution_count": null,
      "outputs": [
        {
          "output_type": "stream",
          "name": "stdout",
          "text": [
            "masukkan dua angka: 2000 300\n",
            "MAAF\n"
          ]
        }
      ]
    },
    {
      "cell_type": "code",
      "source": [
        "a, b, c = map(len, input(\"masukkan tiga kata: \").split())\n",
        "\n",
        "print(\n",
        "    \"Yeehaaw\" if a < b > c or a > b < c\n",
        "    else \"Woohoohoo\" if a < b < c or a > b > c\n",
        "    else \"Hebwueh\"\n",
        ")"
      ],
      "metadata": {
        "colab": {
          "base_uri": "https://localhost:8080/"
        },
        "id": "jYj7mJJXIUty",
        "outputId": "e5d12552-1a14-4a1c-a89c-5add99c427ad"
      },
      "execution_count": null,
      "outputs": [
        {
          "output_type": "stream",
          "name": "stdout",
          "text": [
            "masukkan tiga kata: aku suka rka25\n",
            "Woohoohoo\n"
          ]
        }
      ]
    },
    {
      "cell_type": "code",
      "source": [
        "score = int(input(\"masukkan total skor: \"))\n",
        "\n",
        "if score < 899:\n",
        "    rank = \"Bronze\"\n",
        "elif score <= 1097:\n",
        "    rank = \"Warior\"\n",
        "elif score <= 3500:\n",
        "    rank = \"Mythic\"\n",
        "elif score <= 4737:\n",
        "    rank = \"Legend\"\n",
        "else:\n",
        "    rank = \"Epic\"\n",
        "\n",
        "print(\"rank kamu adalah:\", rank)"
      ],
      "metadata": {
        "id": "R1l2gICwP-Zb"
      },
      "execution_count": null,
      "outputs": []
    },
    {
      "cell_type": "code",
      "source": [
        "s = input(\"masukkan string: \").lower()\n",
        "\n",
        "result = 1\n",
        "for ch in s:\n",
        "    if ch.isalpha():\n",
        "        result *= ord(ch) - ord('a') + 1\n",
        "    elif ch.isdigit():\n",
        "        result *= int(ch)\n",
        "\n",
        "print(result)"
      ],
      "metadata": {
        "id": "ymVDaTw_Sv6Y",
        "colab": {
          "base_uri": "https://localhost:8080/"
        },
        "outputId": "726ff4ec-14dc-4c49-f0a7-ae4b94e2f4a8"
      },
      "execution_count": null,
      "outputs": [
        {
          "output_type": "stream",
          "name": "stdout",
          "text": [
            "masukkan string: ab\n",
            "2\n"
          ]
        }
      ]
    },
    {
      "cell_type": "code",
      "source": [
        "price = int(input(\"masukkan harga: \"))\n",
        "print(price *1/2 if price % 2 == 0 else price *3/4)"
      ],
      "metadata": {
        "colab": {
          "base_uri": "https://localhost:8080/"
        },
        "id": "bFAoA5uzuSYT",
        "outputId": "d17a6925-6395-494e-edfa-a500cc96392f"
      },
      "execution_count": null,
      "outputs": [
        {
          "output_type": "stream",
          "name": "stdout",
          "text": [
            "masukkan harga: 1001\n",
            "750.75\n"
          ]
        }
      ]
    },
    {
      "cell_type": "code",
      "source": [
        "N = int(input(\"masukkan N: \"))\n",
        "\n",
        "result = \"\"\n",
        "for i in range(N):\n",
        "    if i % 4 in (2, 3):\n",
        "        result += \"*\"\n",
        "    else:\n",
        "        result += \"#\"\n",
        "\n",
        "print(result)"
      ],
      "metadata": {
        "colab": {
          "base_uri": "https://localhost:8080/"
        },
        "id": "HUdG6F7Wu52M",
        "outputId": "548e3063-6497-4199-d2ef-e492c667ad1f"
      },
      "execution_count": null,
      "outputs": [
        {
          "output_type": "stream",
          "name": "stdout",
          "text": [
            "masukkan N: 6\n",
            "##**##\n"
          ]
        }
      ]
    },
    {
      "cell_type": "code",
      "source": [
        "N, M = map(int, input().split())\n",
        "\n",
        "for i in range(N):\n",
        "    row = \"\"\n",
        "    for j in range(M):\n",
        "        if i % 2 == 0:\n",
        "            if j % 4 < 2:\n",
        "                row += \"*\"\n",
        "            else:\n",
        "                row += \"#\"\n",
        "        else:\n",
        "            if j % 4 < 2:\n",
        "                row += \"#\"\n",
        "            else:\n",
        "                row += \"*\"\n",
        "    print(row)"
      ],
      "metadata": {
        "colab": {
          "base_uri": "https://localhost:8080/"
        },
        "id": "AEOtIqYo-yCN",
        "outputId": "78d74679-e7d7-4fc8-971d-7b8b1e1959d1"
      },
      "execution_count": null,
      "outputs": [
        {
          "output_type": "stream",
          "name": "stdout",
          "text": [
            "3 6\n",
            "**##**\n",
            "##**##\n",
            "**##**\n"
          ]
        }
      ]
    },
    {
      "cell_type": "code",
      "source": [
        "N, M = map(int, input().split())\n",
        "\n",
        "for i in range(N):\n",
        "    row = \"\"\n",
        "    for j in range(M):\n",
        "        if i % 2 == 0:\n",
        "            if j % 2 == 1:\n",
        "                row += \"*\"\n",
        "            else:\n",
        "                row += \"#\"\n",
        "        else:\n",
        "            if j % 2 == 1:\n",
        "                row += \"#\"\n",
        "            else:\n",
        "                row += \"*\"\n",
        "    print(row)"
      ],
      "metadata": {
        "colab": {
          "base_uri": "https://localhost:8080/"
        },
        "id": "Vr9YSg_DB6UZ",
        "outputId": "7b1ea8f9-ad65-4f8e-f4b6-c61d9092026b"
      },
      "execution_count": null,
      "outputs": [
        {
          "output_type": "stream",
          "name": "stdout",
          "text": [
            "3 6\n",
            "#*#*#*\n",
            "*#*#*#\n",
            "#*#*#*\n"
          ]
        }
      ]
    },
    {
      "cell_type": "code",
      "source": [
        "N = int(input())\n",
        "if N % 2 == 1:\n",
        "    pattern = \"#*\"\n",
        "else:\n",
        "    pattern = \"*#\"\n",
        "print((pattern * ((N // 2) + 1))[:N])"
      ],
      "metadata": {
        "colab": {
          "base_uri": "https://localhost:8080/"
        },
        "id": "xf__ABotSfzB",
        "outputId": "46e740f3-03b9-437d-f705-8a610e1c2cb9"
      },
      "execution_count": null,
      "outputs": [
        {
          "output_type": "stream",
          "name": "stdout",
          "text": [
            "9\n",
            "#*#*#*#*#\n"
          ]
        }
      ]
    },
    {
      "cell_type": "code",
      "source": [
        "N = int(input())\n",
        "for i in range(1, N + 1):\n",
        "    for j in range(1, i + 1):\n",
        "        print(j)"
      ],
      "metadata": {
        "colab": {
          "base_uri": "https://localhost:8080/"
        },
        "id": "ZKn3zeJoS_sY",
        "outputId": "024e1e1a-e221-4dd6-8221-0681c312a807"
      },
      "execution_count": null,
      "outputs": [
        {
          "output_type": "stream",
          "name": "stdout",
          "text": [
            "5\n",
            "1\n",
            "1\n",
            "2\n",
            "1\n",
            "2\n",
            "3\n",
            "1\n",
            "2\n",
            "3\n",
            "4\n",
            "1\n",
            "2\n",
            "3\n",
            "4\n",
            "5\n"
          ]
        }
      ]
    },
    {
      "cell_type": "code",
      "source": [
        "x = input().rstrip()\n",
        "y = input().rstrip()\n",
        "for n in range(1, 26):\n",
        "    hasil = \"\"\n",
        "    for ch in x:\n",
        "        if ch.isalpha():\n",
        "            base = ord('a') if ch.islower() else ord('A')\n",
        "            hasil += chr((ord(ch) - base + n) % 26 + base)\n",
        "        else:\n",
        "            hasil += ch\n",
        "    sandi = hasil[::-1]\n",
        "    if sandi == y:\n",
        "        print(f\"Silahkan berjalan sejauh {n} Meter\")\n",
        "        break\n",
        "else:\n",
        "    print(\"Mending pulang aja\")"
      ],
      "metadata": {
        "colab": {
          "base_uri": "https://localhost:8080/"
        },
        "id": "i4oO_CPPCZLe",
        "outputId": "9b6079d2-a65f-4d25-b6fa-5d49c4343741"
      },
      "execution_count": null,
      "outputs": [
        {
          "output_type": "stream",
          "name": "stdout",
          "text": [
            "kantin tc\n",
            "kc yabcis\n",
            "Mending pulang aja\n"
          ]
        }
      ]
    }
  ]
}